{
 "cells": [
  {
   "cell_type": "code",
   "execution_count": 2,
   "metadata": {},
   "outputs": [
    {
     "name": "stdout",
     "output_type": "stream",
     "text": [
      "0 0 0 183 255 255\n"
     ]
    }
   ],
   "source": [
    "import cv2 as cv\n",
    "\n",
    "def nothing(x):\n",
    "    pass\n",
    "\n",
    "cv.namedWindow('result')\n",
    "\n",
    "cv.createTrackbar('minb', 'result', 0, 255, nothing)\n",
    "cv.createTrackbar('ming', 'result', 0, 255, nothing)\n",
    "cv.createTrackbar('minr', 'result', 0, 255, nothing)\n",
    "\n",
    "cv.createTrackbar('maxb', 'result', 0, 255, nothing)\n",
    "cv.createTrackbar('maxg', 'result', 0, 255, nothing)\n",
    "cv.createTrackbar('maxr', 'result', 0, 255, nothing)\n",
    "\n",
    "while True:\n",
    "    \n",
    "    #ret, frame = cap.read()\n",
    "    frame = cv.imread('train.png')\n",
    "    \n",
    "    \n",
    "    minb = cv.getTrackbarPos('minb', 'result')\n",
    "    ming = cv.getTrackbarPos('ming', 'result')\n",
    "    minr = cv.getTrackbarPos('minr', 'result')\n",
    "    \n",
    "    maxb = cv.getTrackbarPos('maxb', 'result')\n",
    "    maxg = cv.getTrackbarPos('maxg', 'result')\n",
    "    maxr = cv.getTrackbarPos('maxr', 'result')\n",
    "    '''\n",
    "    hsv = cv.cvtColor(frame, cv.COLOR_BGR2HSV)\n",
    "    hsv = cv.blur(hsv, (3,3))\n",
    "    '''  \n",
    "    mask = cv.inRange(frame, (minb,ming,minr), (maxb,maxg,maxr))\n",
    "    '''\n",
    "    mask = cv.erode(mask, None, iterations = 2)\n",
    "    mask = cv.dilate(mask, None, iterations = 4)\n",
    "    '''\n",
    "    cv.imshow('Result', mask)\n",
    "    cv.imshow('frame', frame)\n",
    "    \n",
    "    \n",
    "    if cv.waitKey(1) == 27:\n",
    "        break\n",
    "        \n",
    "#cap.release()\n",
    "cv.destroyAllWindows()\n",
    "\n",
    "print(minb,ming,minr,maxb,maxg,maxr)"
   ]
  },
  {
   "cell_type": "markdown",
   "metadata": {},
   "source": [
    "## Home\n",
    "(0,143,80), (209,255,255)"
   ]
  },
  {
   "cell_type": "code",
   "execution_count": null,
   "metadata": {},
   "outputs": [],
   "source": []
  },
  {
   "cell_type": "code",
   "execution_count": null,
   "metadata": {},
   "outputs": [],
   "source": []
  }
 ],
 "metadata": {
  "kernelspec": {
   "display_name": "Python 3",
   "language": "python",
   "name": "python3"
  },
  "language_info": {
   "codemirror_mode": {
    "name": "ipython",
    "version": 3
   },
   "file_extension": ".py",
   "mimetype": "text/x-python",
   "name": "python",
   "nbconvert_exporter": "python",
   "pygments_lexer": "ipython3",
   "version": "3.7.1"
  }
 },
 "nbformat": 4,
 "nbformat_minor": 2
}
