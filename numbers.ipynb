{
 "cells": [
  {
   "cell_type": "code",
   "execution_count": 13,
   "metadata": {},
   "outputs": [
    {
     "name": "stdout",
     "output_type": "stream",
     "text": [
      "training complete\n"
     ]
    }
   ],
   "source": [
    "import sys\n",
    "\n",
    "import numpy as np\n",
    "import cv2\n",
    "\n",
    "im = cv2.imread('train.png')\n",
    "im3 = im.copy()\n",
    "thresh = cv2.inRange(im3, (0, 0, 0), (183, 255, 255))\n",
    "\n",
    "'''\n",
    "gray = cv2.cvtColor(im,cv2.COLOR_BGR2GRAY)\n",
    "blur = cv2.GaussianBlur(gray,(5,5),0)\n",
    "thresh = cv2.adaptiveThreshold(blur,255,1,1,11,2)\n",
    "'''\n",
    "#################      Now finding Contours         ###################\n",
    "\n",
    "contours,hierarchy = cv2.findContours(thresh,cv2.RETR_LIST,cv2.CHAIN_APPROX_SIMPLE)\n",
    "\n",
    "samples =  np.empty((0,100))\n",
    "responses = []\n",
    "keys = [i for i in range(48,58)]\n",
    "\n",
    "for cnt in contours:\n",
    "    if cv2.waitKey(1) == 27:\n",
    "        break\n",
    "    \n",
    "    if cv2.contourArea(cnt)>500 and cv2.contourArea(cnt)<3000:\n",
    "        [x,y,w,h] = cv2.boundingRect(cnt)\n",
    "\n",
    "        if  h>20:\n",
    "            cv2.rectangle(im,(x,y),(x+w,y+h),(0,0,255),2)\n",
    "            roi = thresh[y:y+h,x:x+w]\n",
    "            roismall = cv2.resize(roi,(10,10))\n",
    "            cv2.imshow('norm',im)\n",
    "            key = cv2.waitKey(0)\n",
    "\n",
    "            if key == 27:  # (escape to quit)\n",
    "                sys.exit()\n",
    "            elif key in keys:\n",
    "                responses.append(int(chr(key)))\n",
    "                sample = roismall.reshape((1,100))\n",
    "                samples = np.append(samples,sample,0)\n",
    "\n",
    "responses = np.array(responses,np.float32)\n",
    "responses = responses.reshape((responses.size,1))\n",
    "cv2.destroyAllWindows()\n",
    "print(\"training complete\")\n",
    "\n",
    "np.savetxt('generalsamples.data',samples)\n",
    "np.savetxt('generalresponses.data',responses)"
   ]
  },
  {
   "cell_type": "markdown",
   "metadata": {},
   "source": [
    "###### "
   ]
  },
  {
   "cell_type": "code",
   "execution_count": 11,
   "metadata": {},
   "outputs": [
    {
     "data": {
      "text/plain": [
       "-1"
      ]
     },
     "execution_count": 11,
     "metadata": {},
     "output_type": "execute_result"
    }
   ],
   "source": [
    "import cv2\n",
    "import numpy as np\n",
    "\n",
    "#######   training part    ############### \n",
    "samples = np.loadtxt('generalsamples.data',np.float32)\n",
    "responses = np.loadtxt('generalresponses.data',np.float32)\n",
    "responses = responses.reshape((responses.size,1))\n",
    "\n",
    "model = cv2.ml.KNearest_create()\n",
    "model.train(samples, cv2.ml.ROW_SAMPLE, responses)\n",
    "\n",
    "############################# testing part  #########################\n",
    "\n",
    "im = cv2.imread('niga.jpg')\n",
    "im = cv2.resize(im, (800,600))\n",
    "im3 = im.copy()\n",
    "out = np.zeros(im.shape,np.uint8)\n",
    "thresh = cv2.inRange(im3, (0, 0, 0), (183, 255, 255))\n",
    "cv2.imshow('binar', thresh)\n",
    "\n",
    "\n",
    "contours,hierarchy = cv2.findContours(thresh,cv2.RETR_LIST,cv2.CHAIN_APPROX_SIMPLE)\n",
    "\n",
    "for cnt in contours:\n",
    "    if cv2.contourArea(cnt)>10000:\n",
    "        [x,y,w,h] = cv2.boundingRect(cnt)\n",
    "        if  h>18:\n",
    "            cv2.rectangle(im,(x,y),(x+w,y+h),(0,255,0),2)\n",
    "            roi = thresh[y:y+h,x:x+w]\n",
    "            roismall = cv2.resize(roi,(10,10))\n",
    "            roismall = roismall.reshape((1,100))\n",
    "            roismall = np.float32(roismall)\n",
    "            retval, results, neigh_resp, dists = model.findNearest(roismall, k = 1)\n",
    "            string = str(int((results[0][0])))\n",
    "            cv2.putText(out,string,(x,y+h),0,1,(0,255,0))\n",
    "\n",
    "cv2.imshow('im',im)\n",
    "cv2.imshow('out',out)\n",
    "cv2.waitKey(0)"
   ]
  },
  {
   "cell_type": "code",
   "execution_count": null,
   "metadata": {},
   "outputs": [],
   "source": []
  }
 ],
 "metadata": {
  "kernelspec": {
   "display_name": "Python 3",
   "language": "python",
   "name": "python3"
  },
  "language_info": {
   "codemirror_mode": {
    "name": "ipython",
    "version": 3
   },
   "file_extension": ".py",
   "mimetype": "text/x-python",
   "name": "python",
   "nbconvert_exporter": "python",
   "pygments_lexer": "ipython3",
   "version": "3.7.1"
  }
 },
 "nbformat": 4,
 "nbformat_minor": 2
}
